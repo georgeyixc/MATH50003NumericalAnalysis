{
 "cells": [
  {
   "cell_type": "markdown",
   "metadata": {},
   "source": [
    "# MATH50003 (2024–25)\n",
    "# Revision Lab"
   ]
  },
  {
   "cell_type": "code",
   "execution_count": null,
   "metadata": {},
   "outputs": [],
   "source": [
    "using LinearAlgebra, SetRounding, Test"
   ]
  },
  {
   "cell_type": "markdown",
   "metadata": {},
   "source": [
    "**Problem 1(a)** Simpson's rule on a single panel is given by\n",
    "$$\n",
    "∫_a^b f(x) {\\rm d}x ≈ {b-a \\over 6} \\left[f(a) + 4 f\\!\\left({a+b \\over 2}\\right) + f(b) \\right].\n",
    "$$\n",
    "Complete the implementation of `simpsonsrule` by dividing $[0,1]$ into grid points $x_0, x_1, …, x_{2n}$ with $x_k = k/(2n)$\n",
    "and applying Simpson's rule on the intervals $[x_{2k-2},x_{2k}]$ for $k = 1,…,n$."
   ]
  },
  {
   "cell_type": "code",
   "execution_count": null,
   "metadata": {},
   "outputs": [],
   "source": [
    "function simpsonsrule(f, n)\n",
    "    # TODO: implement Simpsons rule\n",
    "    # SOLUTION\n",
    "    ret = 0.0\n",
    "    for k = 1:n\n",
    "        a = (2k-2)/(2n)\n",
    "        h = (2k-1)/(2n) # need to evaluate at midpoint\n",
    "        b = (2k)/(2n)\n",
    "        ret += 1/(6n) * (f(a) + 4f(h) + f(b))\n",
    "    end\n",
    "    ret\n",
    "    # END\n",
    "end\n",
    "\n",
    "@test simpsonsrule(exp, 1000) ≈ exp(1)-1"
   ]
  },
  {
   "cell_type": "markdown",
   "metadata": {},
   "source": [
    "**Problem 1(b)** By computing with various values of $n$, conjecture what the convergence rate is as $n → ∞$. Is it faster than Trapezium rules $O(n^{-2})$?"
   ]
  },
  {
   "cell_type": "code",
   "execution_count": null,
   "metadata": {},
   "outputs": [],
   "source": [
    "# TODO: vary n and deduce the converge rate, either by looking at errors or by plotting\n",
    "# SOLUTION\n",
    "# We can do this without plotting as follows:\n",
    "\n",
    "(simpsonsrule(exp, 10) - (exp(1)-1))/(simpsonsrule(exp, 20) - (exp(1)-1)) # ≈ 16 = 2^4\n",
    "# Since if an error is bounded by $Cn^(-4)$ then doubling $n$ would be bounded by\n",
    "# $Cn^(-4)/16$, we can conjecture that the convergence it is $O(n^{-4})$, twice as good as trapezium.\n",
    "\n",
    "# Plotting is a more robust way:\n",
    "using Plots\n",
    "nanabs = x -> iszero(x) ? NaN : abs(x)\n",
    "errs = [nanabs((simpsonsrule(exp, n) - (exp(1)-1))) for n = 1:1000]\n",
    "\n",
    "plot(1:1000, errs; yscale=:log10, xscale=:log10, xticks=10 .^ (0:3), yticks=10.0 .^ (-(0:16)))\n",
    "plot!(1:1000, (1:1000) .^ (-4))\n",
    "\n",
    "# We confirm its $O(n^{-4})$\n",
    "\n",
    "\n",
    "\n",
    "# END"
   ]
  },
  {
   "cell_type": "markdown",
   "metadata": {},
   "source": [
    "**Problem 2** Consider a 3-term divided-difference approximation\n",
    "$$\n",
    "f'(x) ≈ {5f(x+2h) - 3f(x) - 2f(x-h) \\over 12h}\n",
    "$$\n",
    "Implement this in the following function."
   ]
  },
  {
   "cell_type": "code",
   "execution_count": null,
   "metadata": {},
   "outputs": [],
   "source": [
    "function threeterm_divideddifference(f, x, h)\n",
    "    # TODO: Implement the above divided-difference formula\n",
    "    # SOLUTION\n",
    "    (5f(x+2h) - 3f(x) - 2f(x-h))/(12h)\n",
    "    # END\n",
    "end\n",
    "@test threeterm_divideddifference(exp, 0, 0.0000001) ≈ 1 atol=1E-5"
   ]
  },
  {
   "cell_type": "markdown",
   "metadata": {},
   "source": [
    "**Problem 3** Using the following simplified `Dual` implementation, consider a double-dual number\n",
    "like `Dual(Dual(a,b), Dual(c,d))`. By choosing `a`, `b`, `c` and `d`, construct the function `secondderivative(f, x)`\n",
    "that computes the second derivative of a function. Hint: it might help to think of a double-dual number as\n",
    "$(a + b*ε) + δ*(c + d*ε)$ where $ε^2 = δ^2 = 0$."
   ]
  },
  {
   "cell_type": "code",
   "execution_count": null,
   "metadata": {},
   "outputs": [],
   "source": [
    "struct Dual\n",
    "    a\n",
    "    b\n",
    "end\n",
    "\n",
    "import Base: +, *, exp\n",
    "function +(x::Dual, y::Dual)\n",
    "    a,b = x.a, x.b # x == a+bϵ. This gets out a and b\n",
    "    c,d = y.a, y.b # y == c+dϵ. This gets out c and d\n",
    "    Dual(a+c, b+d)\n",
    "end\n",
    "function *(x::Dual, y::Dual)\n",
    "    a,b = x.a, x.b # x == a+bϵ. This gets out a and b\n",
    "    c,d = y.a, y.b # y == c+dϵ. This gets out c and d\n",
    "    Dual(a*c, b*c + a*d)\n",
    "end\n",
    "exp(x::Dual) = Dual(exp(x.a), exp(x.a) * x.b)\n",
    "\n",
    "\n",
    "function secondderivative(f, x)\n",
    "    # TODO: compute the second derivative of f using a double-dual number.\n",
    "    # SOLUTION\n",
    "    # This requires a bit of pen-and-paper deduction. A double-dual can be represented as\n",
    "    # a + bε + δ*(c+dε) = a + bε + cδ + dεδ\n",
    "    # where ε^2 == δ^2 == 0.\n",
    "    # We want to choose a,b,c,d so that we can recover the second derivative for all polynomials.\n",
    "    # Note that:\n",
    "    # (a + bε + δ*(c+dε))^k == (a+bε)^k + k*δ*(c+dε)*(a+bε)^(k-1)\n",
    "    #  == a^k + kba^(k-1)*ε + kc*a^(k-1)*δ + (c*k*(k-1)*a^(k-2) + d*a^(k-1))*ε*δ\n",
    "    # By setting b = c = 1 and d = 0 we see that this satisfies\n",
    "    #  (x + ε + δ)^k = x^k + k*x^(k-1)*ε + k*x^(k-1)*δ + k*(k-1)*x^(k-2)*ε*δ\n",
    "    # that is, the dual of the dual part equals the second derivative of x^k\n",
    "    f(Dual(Dual(x, 1), Dual(1, 0))).b.b\n",
    "    # END\n",
    "end\n",
    "\n",
    "f = x -> exp(x*exp(x))\n",
    "@test secondderivative(f, 0) ≈ 3"
   ]
  },
  {
   "cell_type": "markdown",
   "metadata": {},
   "source": [
    "**Problem 4** Implement the following function\n",
    "`primedigits` that constructs a positive `Float64` of the form $2^q * (1.b_1…b_S)$\n",
    "where the exponent is specified by `q` and has significand\n",
    "bits\n",
    "$$\n",
    "b_k = \\begin{cases}\n",
    "    1 & k\\hbox{ is prime} \\\\\n",
    "    0 & \\hbox{otherwise}\n",
    "    \\end{cases}\n",
    "$$\n",
    "Hint: use the `gcd` function to determine if a number is prime."
   ]
  },
  {
   "cell_type": "code",
   "execution_count": null,
   "metadata": {},
   "outputs": [],
   "source": [
    "function primedigits(q)\n",
    "    # TODO: return a Float64 with the specified bits.\n",
    "    # SOLUTION\n",
    "    # significand has 52 bits. we can either do it by hand or create a string:\n",
    "    function isprime(k) # quick-and-dirty test for prime\n",
    "        if k ≤ 1\n",
    "            return false\n",
    "        end\n",
    "        for j=1:k-1\n",
    "            if gcd(k, j) ≠ 1\n",
    "                return false\n",
    "            end\n",
    "        end\n",
    "        return true\n",
    "    end\n",
    "\n",
    "    ret = \"1\" # leading coefficient\n",
    "\n",
    "    for k = 1:52\n",
    "        if isprime(k)\n",
    "            ret *= \"1\"\n",
    "        else\n",
    "            ret *= \"0\"\n",
    "        end\n",
    "    end\n",
    "\n",
    "    sig = 2.0^(-52) * parse(Int, ret; base=2)\n",
    "\n",
    "    2.0^(q) * sig\n",
    "    # END\n",
    "end\n",
    "\n",
    "@test primedigits(3) == 11.317460078808892"
   ]
  },
  {
   "cell_type": "markdown",
   "metadata": {},
   "source": [
    "**Problem 5** Implement the `sqrt` function with correctly rounded interval arithmetic."
   ]
  },
  {
   "cell_type": "code",
   "execution_count": null,
   "metadata": {},
   "outputs": [],
   "source": [
    "struct Interval # represents the set [a,b]\n",
    "    a # left endpoint\n",
    "    b # right endpoint\n",
    "end\n",
    "\n",
    "Interval(x) = Interval(x,x) # Support Interval(1) to represent [1,1]\n",
    "\n",
    "import Base: sqrt, in\n",
    "in(x, X::Interval) = X.a ≤ x ≤ X.b\n",
    "\n",
    "function sqrt(X::Interval)\n",
    "    a,b = promote(X.a, X.b) # make sure all are the same type\n",
    "    T = typeof(a)\n",
    "    # TODO: implement sqrt by correctly rounding the computation.\n",
    "    # SOLUTION\n",
    "    α = setrounding(T, RoundDown) do\n",
    "        sqrt(a)\n",
    "    end\n",
    "    β = setrounding(T, RoundUp) do\n",
    "        sqrt(b)\n",
    "    end\n",
    "    Interval(α, β)\n",
    "    # END\n",
    "end\n",
    "\n",
    "@test sqrt(big(2.0)) in sqrt(Interval(2.0))"
   ]
  },
  {
   "cell_type": "markdown",
   "metadata": {},
   "source": [
    "**Problem 6** Implement `reversecholesky(A)` that returns an upper-triangular matrix `U` such that `U*U' ≈ A`.\n",
    "You may assume the input is symmetric positive definite and has `Float64` values. You must not use the inbuilt `cholesky`\n",
    "function or in any other way reduce the problem to a standard Cholesky factorisation."
   ]
  },
  {
   "cell_type": "code",
   "execution_count": null,
   "metadata": {},
   "outputs": [],
   "source": [
    "function reversecholesky(A)\n",
    "    n,m = size(A)\n",
    "    if n ≠ m\n",
    "        error(\"Matrix must be square\")\n",
    "    end\n",
    "    if A ≠ A'\n",
    "        error(\"Matrix must be symmetric\")\n",
    "    end\n",
    "    U = UpperTriangular(zeros(n,n))\n",
    "    # TODO: populate U so that U'U ≈ A\n",
    "    # SOLUTION\n",
    "    Aⱼ = copy(A)\n",
    "    for j = n:-1:1 # 3 points for recognising it needs to start at bottom right\n",
    "        α,𝐯 = Aⱼ[j,j],Aⱼ[1:j-1,j]\n",
    "        if α ≤ 0\n",
    "            error(\"Matrix is not SPD\") # this error is optional\n",
    "        end\n",
    "        U[j,j] = sqrt(α)\n",
    "        U[1:j-1,j] = 𝐯/sqrt(α) # 4 points if this vector is chosen\n",
    "\n",
    "        # induction part, 2 points if correct\n",
    "        Aⱼ = Aⱼ[1:j-1,1:j-1] - 𝐯*𝐯'/α\n",
    "    end\n",
    "    # END\n",
    "    U\n",
    "end\n",
    "\n",
    "A = [2 1 0; 1 2 1; 0 1 2]\n",
    "U = reversecholesky(A)\n",
    "@test U*U' ≈ A"
   ]
  },
  {
   "cell_type": "markdown",
   "metadata": {},
   "source": [
    "**Problem 7(a)**  Construct a reverse Householder reflection, that gives an orthogonal matrix\n",
    "$Q$ such that, for $𝐱 ∈ ℝ^n$,\n",
    "$$\n",
    "𝐱^⊤ Q = \\|𝐱\\|𝐞_1^⊤.\n",
    "$$"
   ]
  },
  {
   "cell_type": "code",
   "execution_count": null,
   "metadata": {},
   "outputs": [],
   "source": [
    "function reversehouseholderreflection(x)\n",
    "    # TODO: implement a Householder reflection that acts on the left\n",
    "    # SOLUTION\n",
    "    # This is somewhat of a trick question: if we transpose the above\n",
    "    # we see its just exactly a Householder reflection\n",
    "    y = copy(x)\n",
    "    y[1] -= norm(y)\n",
    "    w = y / norm(y)\n",
    "    I - 2 * w * w'\n",
    "    # END\n",
    "end\n",
    "\n",
    "x = randn(5)\n",
    "Q = reversehouseholderreflection(x)\n",
    "@test x'Q ≈ [norm(x) zeros(1,4)]"
   ]
  },
  {
   "cell_type": "markdown",
   "metadata": {},
   "source": [
    "**Problem 7(b)**\n",
    "Complete the function `lq(A)` that\n",
    "returns a LQ factorisation, that is, `A = LQ` where  `L` is lower triangular and `Q` is an orthogonal\n",
    "matrix. You may assume that `A` is a square `Matrix{Float64}`.  Do not manipulate the problem\n",
    "to reduce it to a standard QR factorisation."
   ]
  },
  {
   "cell_type": "code",
   "execution_count": null,
   "metadata": {},
   "outputs": [],
   "source": [
    "function lq(A)\n",
    "    m,n = size(A)\n",
    "    m == n || error(\"not square\")\n",
    "    # TODO Create Q and L such that A = L*Q, Q'Q == I and L is lower triangular\n",
    "    # SOLUTION\n",
    "    L = copy(A)\n",
    "    Q = Matrix(1.0I, n, n)\n",
    "    for k = 1:n-1\n",
    "        Qₖ =  reversehouseholderreflection(L[k, k:end])\n",
    "        L[k:end, k:end] = L[k:end, k:end] * Qₖ\n",
    "        Q[k:end, :] = Qₖ * Q[k:end, :]\n",
    "    end\n",
    "    L,Q\n",
    "    # END\n",
    "end\n",
    "\n",
    "A = [1.0 2 3; 1 4 9; 1 1 1]\n",
    "L,Q = lq(A)\n",
    "@test Q'Q ≈ I\n",
    "@test L*Q ≈ A\n",
    "@test L ≈ tril(L) # it is acceptable to have small non-zero entries in L"
   ]
  },
  {
   "cell_type": "markdown",
   "metadata": {},
   "source": [
    "**Problem 8** Complete the function `lagrangebasis(g, k, x)` where `g` is a vector of grid\n",
    "points, that computes the Lagrange basis function at the point `x`. You may assume all numbers\n",
    "are `Float64`."
   ]
  },
  {
   "cell_type": "code",
   "execution_count": null,
   "metadata": {},
   "outputs": [],
   "source": [
    "function lagrangebasis(g::AbstractVector, k, x)\n",
    "    n = length(g) # number of points\n",
    "    ## TODO: compute ℓ_k(x) corresponding to the grid g\n",
    "    # SOLUTION\n",
    "    ret = 1.0\n",
    "    for j = 1:n\n",
    "        if j ≠ k\n",
    "            ret *= (x-g[j])/(g[k]-g[j])\n",
    "        end\n",
    "    end\n",
    "    ret\n",
    "    # END\n",
    "end\n",
    "\n",
    "g = 1:5\n",
    "@test lagrangebasis(g, 2, 2) == 1\n",
    "@test lagrangebasis(g, 2, 3) == lagrangebasis(g, 2, 4) ==  0\n",
    "@test lagrangebasis(g, 3, 0.1) ≈ 8.169525"
   ]
  },
  {
   "cell_type": "markdown",
   "metadata": {},
   "source": [
    "**Problem 9(a)**  Consider the Schrödinger equation with quadratic oscillator:\n",
    "$$\n",
    "u(-L) = u(L) = 0, -u'' + x^2 u = f(x)\n",
    "$$\n",
    "Use row-eliminations to recast the tridiagonal finite-difference discretisation as a symmetric tridiagonal\n",
    "system, solved via the `SymTridiagonal` type,."
   ]
  },
  {
   "cell_type": "code",
   "execution_count": null,
   "metadata": {},
   "outputs": [],
   "source": [
    "function schrodingersolve(n, L, f)\n",
    "    x = range(-L,L;length=n+1) # discretisation grid\n",
    "    # TODO: Implement finite differences using a SymTridiagonal matrix, by using the knowledge of the solution at ±L.\n",
    "    # SOLUTION\n",
    "    # In the standard triangular discretisation, we can\n",
    "    h = step(x)\n",
    "    A = SymTridiagonal(2/h^2 .+  x[2:end-1].^2, fill(-1/h^2, n-2))\n",
    "    [0; A \\ f.(x[2:end-1]); 0]\n",
    "    # END\n",
    "end\n",
    "\n",
    "f = x-> 2exp(-x^2) - 3exp(-x^2)*x^2\n",
    "n,L = 10000,10\n",
    "x = range(-L,L;length=n+1)\n",
    "@test schrodingersolve(n, L, f) ≈ exp.(-x.^2) atol=1E-4"
   ]
  },
  {
   "cell_type": "markdown",
   "metadata": {},
   "source": [
    "**Problem 9(b)** The `eigvals` function computes eigenvalues of a matrix. Use this alongside the\n",
    "symmetric diagonal discretisation to approximate $λ$ such that\n",
    "$$\n",
    "u(-L) = u(L) = 0, -u'' + x^2 u = λ u\n",
    "$$\n",
    "has a non-zero solution (i.e., an eigenvalue of the differential equation).\n",
    "Can you conjecture their exact value if $L → ∞$?"
   ]
  },
  {
   "cell_type": "code",
   "execution_count": null,
   "metadata": {},
   "outputs": [],
   "source": [
    "function shrodingereigvals(n, L)\n",
    "    x = range(-L,L;length=n+1) # discretisation grid\n",
    "    # TODO: Use eigvals with a SymTridiagonal discretisation to approximate the eigenvalues of a Schrödinger operator\n",
    "    # SOLUTION\n",
    "    h = step(x)\n",
    "    eigvals(SymTridiagonal(2/h^2 .+  x[2:end-1].^2, fill(-1/h^2, n-2)))\n",
    "    # END\n",
    "end\n",
    "\n",
    "# TODO: add experiments and a comment where you conjecture the true eigenvalues.\n",
    "# SOLUTION\n",
    "\n",
    "shrodingereigvals(10_000, 100) # the eigvals are approx 1, 3, 5, …\n",
    "# Conjecture: 1+2k are the true eigenvalues eigenvalue.\n",
    "# END"
   ]
  },
  {
   "cell_type": "markdown",
   "metadata": {},
   "source": [
    "---\n",
    "\n",
    "*This notebook was generated using [Literate.jl](https://github.com/fredrikekre/Literate.jl).*"
   ]
  }
 ],
 "metadata": {
  "kernelspec": {
   "display_name": "Julia 1.11.3",
   "language": "julia",
   "name": "julia-1.11"
  },
  "language_info": {
   "file_extension": ".jl",
   "mimetype": "application/julia",
   "name": "julia",
   "version": "1.11.2"
  }
 },
 "nbformat": 4,
 "nbformat_minor": 4
}
